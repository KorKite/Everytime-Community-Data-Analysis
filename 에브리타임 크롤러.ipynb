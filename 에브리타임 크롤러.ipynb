{
  "cells": [
    {
      "cell_type": "markdown",
      "source": [
        "## 에브리타임 웹 크롤링\n"
      ],
      "metadata": {}
    },
    {
      "cell_type": "code",
      "source": [
        "from selenium import webdriver\n",
        "main_url = \"https://everytime.kr\"\n"
      ],
      "outputs": [],
      "execution_count": 1,
      "metadata": {}
    },
    {
      "cell_type": "code",
      "source": [
        "#에브리타임 로그인 구현\n",
        "my_id = input(\"input user id: \")\n",
        "my_pass = input(\"input user password: \")\n",
        "\n",
        "import time\n",
        "driver = webdriver.Chrome(\"./chromedriver\")\n",
        "driver.get(main_url)\n",
        "login_btn = driver.find_element_by_xpath('/html/body/aside/div[1]/a[2]')\n",
        "login_btn.click()\n",
        "# time.sleep(1)\n",
        "input_id =driver.find_element_by_xpath('//*[@id=\"container\"]/form/p[1]/input')\n",
        "input_pass = driver.find_element_by_xpath('//*[@id=\"container\"]/form/p[2]/input')\n",
        "input_id.send_keys(my_id)\n",
        "input_pass.send_keys(my_pass)\n",
        "enter_btn = driver.find_element_by_xpath('//*[@id=\"container\"]/form/p[3]/input')\n",
        "\n",
        "enter_btn.click()"
      ],
      "outputs": [],
      "execution_count": 2,
      "metadata": {}
    },
    {
      "cell_type": "markdown",
      "source": [
        "### 최신리뷰 크롤링"
      ],
      "metadata": {}
    },
    {
      "cell_type": "markdown",
      "source": [
        "###### 최신순으로 정렬된 곳에서 맨 밑까지 로딩해주는 코드이다."
      ],
      "metadata": {
        "nteract": {
          "transient": {
            "deleting": false
          }
        }
      }
    },
    {
      "cell_type": "code",
      "source": [
        "from selenium.webdriver.common.keys import Keys\n",
        "from bs4 import BeautifulSoup as bs\n",
        "import requests as rq\n",
        "\n",
        "url_lec = \"https://everytime.kr/lecture\"\n",
        "driver.get(url_lec)\n",
        "body = driver.find_element_by_css_selector('body')\n",
        "for i in range(30):\n",
        "    for i in range(35):\n",
        "        body.send_keys(Keys.PAGE_DOWN)\n",
        "    time.sleep(0.2)"
      ],
      "outputs": [],
      "execution_count": null,
      "metadata": {
        "collapsed": true,
        "outputExpanded": false,
        "jupyter": {
          "source_hidden": false,
          "outputs_hidden": false
        },
        "nteract": {
          "transient": {
            "deleting": false
          }
        }
      }
    },
    {
      "cell_type": "markdown",
      "source": [
        "##### 지금 현재 페이지의 강의평을 모두 크롤링하는 코드이다.\n",
        "에러가 날 경우 숫자의 차이가 발생한 것임으로 안에 변수나 리스트의 크기를 변경해주면 된다."
      ],
      "metadata": {
        "nteract": {
          "transient": {
            "deleting": false
          }
        }
      }
    },
    {
      "cell_type": "code",
      "source": [
        "from selenium.webdriver.common.keys import Keys\n",
        "from bs4 import BeautifulSoup as bs\n",
        "import requests as rq\n",
        "board_html = driver.page_source\n",
        "board_bs = bs(board_html, 'html.parser')\n",
        "\n",
        "comment = board_bs.find_all(\"p\", {\"class\":\"text\"})\n",
        "comment_list = []\n",
        "for i in comment:\n",
        "    comment_list.append(i.text)\n",
        "star = board_bs.find_all(\"span\", {\"class\":\"star\"})\n",
        "star_list =[]\n",
        "pos_neg = []\n",
        "for i in star:\n",
        "    tmp = str(i)[50:52]\n",
        "    if  tmp == \"10\":\n",
        "        star_list.append(5)\n",
        "        pos_neg.append(\"pos\")\n",
        "    elif tmp == \"80\":\n",
        "        star_list.append(4)\n",
        "        pos_neg.append(\"pos\")\n",
        "    elif tmp == \"60\":\n",
        "        star_list.append(3)\n",
        "        pos_neg.append(\"mid\")\n",
        "    elif tmp == \"40\":\n",
        "        star_list.append(2)\n",
        "        pos_neg.append(\"neg\")\n",
        "    elif tmp ==\"20\":\n",
        "        star_list.append(1)\n",
        "        pos_neg.append(\"neg\")        "
      ],
      "outputs": [],
      "execution_count": 18,
      "metadata": {}
    },
    {
      "cell_type": "code",
      "source": [
        "len(comment_list[:len(comment_list)]), len(comment_list[:len(comment_list)]), len(comment_list)"
      ],
      "outputs": [
        {
          "output_type": "execute_result",
          "execution_count": 19,
          "data": {
            "text/plain": [
              "(6, 6, 6)"
            ]
          },
          "metadata": {}
        }
      ],
      "execution_count": 19,
      "metadata": {}
    },
    {
      "cell_type": "code",
      "source": [
        "import pandas as pd\n",
        "df = pd.DataFrame({\n",
        "        \"강의평\" :comment_list[:len(star_list)],\n",
        "        \"별점\":star_list,\n",
        "        \"긍정부정\":pos_neg,\n",
        "    })"
      ],
      "outputs": [],
      "execution_count": 20,
      "metadata": {}
    },
    {
      "cell_type": "code",
      "source": [
        "df"
      ],
      "outputs": [
        {
          "output_type": "execute_result",
          "execution_count": 21,
          "data": {
            "text/html": [
              "<div>\n",
              "<style scoped>\n",
              "    .dataframe tbody tr th:only-of-type {\n",
              "        vertical-align: middle;\n",
              "    }\n",
              "\n",
              "    .dataframe tbody tr th {\n",
              "        vertical-align: top;\n",
              "    }\n",
              "\n",
              "    .dataframe thead th {\n",
              "        text-align: right;\n",
              "    }\n",
              "</style>\n",
              "<table border=\"1\" class=\"dataframe\">\n",
              "  <thead>\n",
              "    <tr style=\"text-align: right;\">\n",
              "      <th></th>\n",
              "      <th>강의평</th>\n",
              "      <th>별점</th>\n",
              "      <th>긍정부정</th>\n",
              "    </tr>\n",
              "  </thead>\n",
              "  <tbody>\n",
              "    <tr>\n",
              "      <th>0</th>\n",
              "      <td>중간에 조별 발표하고 기말에 서술형문제이어서 좀 외우면 좋겠어요!!수업을 듣지 않아...</td>\n",
              "      <td>3</td>\n",
              "      <td>mid</td>\n",
              "    </tr>\n",
              "    <tr>\n",
              "      <th>1</th>\n",
              "      <td>중간시험 조발표로 대체하고 기말시험 한번있음. 중간시험 이전의 강의내용은 기말시험범...</td>\n",
              "      <td>2</td>\n",
              "      <td>neg</td>\n",
              "    </tr>\n",
              "    <tr>\n",
              "      <th>2</th>\n",
              "      <td>학생들이 안 듣고 교수님 수업하기도 싫은 것 같음.왜 이 과목을 들어야 할지 모름.</td>\n",
              "      <td>2</td>\n",
              "      <td>neg</td>\n",
              "    </tr>\n",
              "    <tr>\n",
              "      <th>3</th>\n",
              "      <td>출첵하긴 하는데 대충함중간은 조별과제로 대체고 기말있음거의 매번 수업 일찍 끝내주심...</td>\n",
              "      <td>2</td>\n",
              "      <td>neg</td>\n",
              "    </tr>\n",
              "    <tr>\n",
              "      <th>4</th>\n",
              "      <td>수업은 그냥 안 들어도 되는데.. 스스로 책을 보고 잘 이해하면 점수 잘 나와요.....</td>\n",
              "      <td>2</td>\n",
              "      <td>neg</td>\n",
              "    </tr>\n",
              "  </tbody>\n",
              "</table>\n",
              "</div>"
            ],
            "text/plain": [
              "                                                 강의평  별점 긍정부정\n",
              "0  중간에 조별 발표하고 기말에 서술형문제이어서 좀 외우면 좋겠어요!!수업을 듣지 않아...   3  mid\n",
              "1  중간시험 조발표로 대체하고 기말시험 한번있음. 중간시험 이전의 강의내용은 기말시험범...   2  neg\n",
              "2     학생들이 안 듣고 교수님 수업하기도 싫은 것 같음.왜 이 과목을 들어야 할지 모름.   2  neg\n",
              "3  출첵하긴 하는데 대충함중간은 조별과제로 대체고 기말있음거의 매번 수업 일찍 끝내주심...   2  neg\n",
              "4  수업은 그냥 안 들어도 되는데.. 스스로 책을 보고 잘 이해하면 점수 잘 나와요.....   2  neg"
            ]
          },
          "metadata": {}
        }
      ],
      "execution_count": 21,
      "metadata": {}
    },
    {
      "cell_type": "markdown",
      "source": [
        "### CSV에 덮어쓰기\n",
        "데이터르 모아야 하기 때문에 이전에 있던 데이터에 축적하는 방식으로 저장해준다."
      ],
      "metadata": {}
    },
    {
      "cell_type": "code",
      "source": [
        "df.to_csv('./data.csv', mode='a', header=False)"
      ],
      "outputs": [],
      "execution_count": 22,
      "metadata": {}
    },
    {
      "cell_type": "code",
      "source": [
        "# df.to_csv(\"ttt.csv\")"
      ],
      "outputs": [],
      "execution_count": 160,
      "metadata": {}
    },
    {
      "cell_type": "code",
      "source": [],
      "outputs": [],
      "execution_count": null,
      "metadata": {}
    }
  ],
  "metadata": {
    "kernelspec": {
      "display_name": "Python 3",
      "language": "python",
      "name": "python3"
    },
    "language_info": {
      "name": "python",
      "version": "3.7.7",
      "mimetype": "text/x-python",
      "codemirror_mode": {
        "name": "ipython",
        "version": 3
      },
      "pygments_lexer": "ipython3",
      "nbconvert_exporter": "python",
      "file_extension": ".py"
    },
    "nteract": {
      "version": "0.23.1"
    }
  },
  "nbformat": 4,
  "nbformat_minor": 4
}