{
 "cells": [
  {
   "cell_type": "markdown",
   "metadata": {},
   "source": [
    "# 딥러닝 기반의 모델로 학습\n",
    "딥러닝 기반의 모델로 학습시킨 모델이다. 정확도 자체는 차이를 보이나, 실제로 cost오차는 딥러닝이 성능이 더 좋음을 확인하였다. "
   ]
  },
  {
   "cell_type": "markdown",
   "metadata": {},
   "source": [
    "### 데이터를 불러오고 전처리"
   ]
  },
  {
   "cell_type": "code",
   "execution_count": 1,
   "metadata": {},
   "outputs": [],
   "source": [
    "import pandas as pd\n",
    "whole = pd.read_csv(\"data.csv\")\n",
    "df = pd.read_csv(\"tmp.csv\")"
   ]
  },
  {
   "cell_type": "code",
   "execution_count": 3,
   "metadata": {
    "scrolled": true
   },
   "outputs": [
    {
     "data": {
      "text/plain": [
       "별점\n",
       "1     734\n",
       "2     503\n",
       "3    1134\n",
       "4    1346\n",
       "5    1784\n",
       "dtype: int64"
      ]
     },
     "execution_count": 3,
     "metadata": {},
     "output_type": "execute_result"
    }
   ],
   "source": [
    "whole.groupby(whole['별점']).size()"
   ]
  },
  {
   "cell_type": "code",
   "execution_count": 30,
   "metadata": {},
   "outputs": [
    {
     "data": {
      "text/plain": [
       "(5501, 135)"
      ]
     },
     "execution_count": 30,
     "metadata": {},
     "output_type": "execute_result"
    }
   ],
   "source": [
    "len(whole), len(df)"
   ]
  },
  {
   "cell_type": "code",
   "execution_count": 4,
   "metadata": {},
   "outputs": [],
   "source": [
    "from konlpy.tag import Okt\n",
    "okt = Okt()"
   ]
  },
  {
   "cell_type": "code",
   "execution_count": 5,
   "metadata": {},
   "outputs": [],
   "source": [
    "def clean_text(text):\n",
    "    text = okt.pos(text, norm = True, stem = True)\n",
    "    tmp = []\n",
    "    conti = False\n",
    "    for i in text:           \n",
    "        if  i[1] == \"Adjective\" or i[1] == \"Noun\" or i[1] == \"Verb\" or i[1] == \"Adjective\" or i[1] == \"Suffix\" or i[1] ==\"KoreanParticle\":\n",
    "            tmp.append(i[0])\n",
    "            prev = (i[0], i[1])\n",
    "        \n",
    "    \n",
    "    return \" \".join(tmp)"
   ]
  },
  {
   "cell_type": "code",
   "execution_count": 6,
   "metadata": {},
   "outputs": [],
   "source": [
    "whole[\"전처리\"] = whole[\"강의평\"].map(clean_text)\n",
    "df[\"전처리\"] = df[\"강의평\"].map(clean_text)"
   ]
  },
  {
   "cell_type": "code",
   "execution_count": 7,
   "metadata": {},
   "outputs": [],
   "source": [
    "train_text = list(whole[\"전처리\"])\n",
    "train_sent = list(whole[\"별점\"])\n",
    "test_text = list(df[\"전처리\"])\n",
    "test_sent = list(df[\"별점\"])"
   ]
  },
  {
   "cell_type": "markdown",
   "metadata": {},
   "source": [
    "### 딥러닝 신경망 구축"
   ]
  },
  {
   "cell_type": "code",
   "execution_count": 8,
   "metadata": {},
   "outputs": [],
   "source": [
    "from tensorflow.keras.preprocessing.text import Tokenizer\n",
    "from tensorflow.keras.utils import to_categorical\n",
    "\n",
    "\n",
    "t = Tokenizer()\n",
    "t.fit_on_texts(train_text)\n",
    "train_data=t.texts_to_sequences(train_text)\n",
    "test_data = t.texts_to_sequences(test_text)"
   ]
  },
  {
   "cell_type": "code",
   "execution_count": 9,
   "metadata": {},
   "outputs": [
    {
     "name": "stderr",
     "output_type": "stream",
     "text": [
      "Using TensorFlow backend.\n"
     ]
    }
   ],
   "source": [
    "from keras.models import Sequential\n",
    "from keras.layers import Dense, LSTM, Embedding\n",
    "from keras.preprocessing import sequence\n",
    "from keras.utils import np_utils\n",
    "\n",
    "import numpy\n",
    "import matplotlib.pyplot as plt\n",
    "\n",
    "x_train = sequence.pad_sequences(train_data, maxlen=100)\n",
    "x_test = sequence.pad_sequences(test_data, maxlen=100)"
   ]
  },
  {
   "cell_type": "code",
   "execution_count": 10,
   "metadata": {},
   "outputs": [],
   "source": [
    "from keras.models import Sequential\n",
    "from keras.layers import Dense, LSTM, Embedding\n",
    "from keras.preprocessing import sequence\n",
    "from keras.utils import np_utils\n",
    "\n",
    "import numpy\n",
    "import tensorflow as tf\n",
    "import matplotlib.pyplot as plt\n",
    "\n",
    "import numpy as np\n",
    "\n",
    "def vectorize_sequences(sequences, dimension=10000):\n",
    "    results = np.zeros((len(sequences), dimension))\n",
    "    for i, sequence in enumerate(sequences):\n",
    "        results[i, sequence] = 1.\n",
    "    return results\n",
    "\n",
    "x_train = vectorize_sequences(train_data) # 훈련 데이터 벡터 변환\n",
    "x_test = vectorize_sequences(test_data) # 테스트 데이터 벡터 변환"
   ]
  },
  {
   "cell_type": "code",
   "execution_count": 11,
   "metadata": {},
   "outputs": [],
   "source": [
    "from keras.utils.np_utils import to_categorical\n",
    "\n",
    "y_train = to_categorical(train_sent)\n",
    "y_test = to_categorical(test_sent)"
   ]
  },
  {
   "cell_type": "code",
   "execution_count": 12,
   "metadata": {},
   "outputs": [],
   "source": [
    "from keras import models\n",
    "from keras import layers\n",
    "\n",
    "model = models.Sequential()\n",
    "model.add(layers.Dense(64, activation='relu', input_shape=(10000,)))\n",
    "model.add(layers.Dense(64, activation='relu'))\n",
    "model.add(layers.Dense(6, activation='softmax'))"
   ]
  },
  {
   "cell_type": "code",
   "execution_count": 13,
   "metadata": {},
   "outputs": [],
   "source": [
    "model.compile(optimizer='rmsprop',\n",
    "              loss='categorical_crossentropy',\n",
    "              metrics=['accuracy'])"
   ]
  },
  {
   "cell_type": "markdown",
   "metadata": {},
   "source": [
    "### 학습하고 평가/     정확도,  loss 시각화\n",
    "epoch 7정도에서 제일 좋은 성능임을 확인하였다. "
   ]
  },
  {
   "cell_type": "code",
   "execution_count": 13,
   "metadata": {
    "scrolled": true
   },
   "outputs": [
    {
     "name": "stdout",
     "output_type": "stream",
     "text": [
      "Train on 5501 samples, validate on 135 samples\n",
      "Epoch 1/20\n",
      "5501/5501 [==============================] - 1s 108us/step - loss: 1.6188 - accuracy: 0.3083 - val_loss: 1.6306 - val_accuracy: 0.2074\n",
      "Epoch 2/20\n",
      "5501/5501 [==============================] - 0s 62us/step - loss: 1.3934 - accuracy: 0.4252 - val_loss: 1.5691 - val_accuracy: 0.2444\n",
      "Epoch 3/20\n",
      "5501/5501 [==============================] - 0s 70us/step - loss: 1.2112 - accuracy: 0.5604 - val_loss: 1.5198 - val_accuracy: 0.2963\n",
      "Epoch 4/20\n",
      "5501/5501 [==============================] - 0s 64us/step - loss: 1.0576 - accuracy: 0.6359 - val_loss: 1.4870 - val_accuracy: 0.3630\n",
      "Epoch 5/20\n",
      "5501/5501 [==============================] - 0s 66us/step - loss: 0.9343 - accuracy: 0.6882 - val_loss: 1.4110 - val_accuracy: 0.4222\n",
      "Epoch 6/20\n",
      "5501/5501 [==============================] - 0s 65us/step - loss: 0.8261 - accuracy: 0.7333 - val_loss: 1.4158 - val_accuracy: 0.4074\n",
      "Epoch 7/20\n",
      "5501/5501 [==============================] - 0s 66us/step - loss: 0.7375 - accuracy: 0.7655 - val_loss: 1.4271 - val_accuracy: 0.3852\n",
      "Epoch 8/20\n",
      "5501/5501 [==============================] - 0s 67us/step - loss: 0.6530 - accuracy: 0.7993 - val_loss: 1.4971 - val_accuracy: 0.4000\n",
      "Epoch 9/20\n",
      "5501/5501 [==============================] - 0s 67us/step - loss: 0.5796 - accuracy: 0.8224 - val_loss: 1.5567 - val_accuracy: 0.3852\n",
      "Epoch 10/20\n",
      "5501/5501 [==============================] - 0s 66us/step - loss: 0.5151 - accuracy: 0.8464 - val_loss: 1.5303 - val_accuracy: 0.3852\n",
      "Epoch 11/20\n",
      "5501/5501 [==============================] - 0s 64us/step - loss: 0.4516 - accuracy: 0.8698 - val_loss: 1.5790 - val_accuracy: 0.3926\n",
      "Epoch 12/20\n",
      "5501/5501 [==============================] - 0s 67us/step - loss: 0.4024 - accuracy: 0.8849 - val_loss: 1.6449 - val_accuracy: 0.4000\n",
      "Epoch 13/20\n",
      "5501/5501 [==============================] - 0s 66us/step - loss: 0.3539 - accuracy: 0.9024 - val_loss: 1.7961 - val_accuracy: 0.3926\n",
      "Epoch 14/20\n",
      "5501/5501 [==============================] - 0s 63us/step - loss: 0.3121 - accuracy: 0.9200 - val_loss: 1.7140 - val_accuracy: 0.3630\n",
      "Epoch 15/20\n",
      "5501/5501 [==============================] - 0s 61us/step - loss: 0.2741 - accuracy: 0.9296 - val_loss: 1.8755 - val_accuracy: 0.4074\n",
      "Epoch 16/20\n",
      "5501/5501 [==============================] - 0s 63us/step - loss: 0.2427 - accuracy: 0.9378 - val_loss: 1.9478 - val_accuracy: 0.4074\n",
      "Epoch 17/20\n",
      "5501/5501 [==============================] - 0s 60us/step - loss: 0.2115 - accuracy: 0.9484 - val_loss: 2.0436 - val_accuracy: 0.3926\n",
      "Epoch 18/20\n",
      "5501/5501 [==============================] - 0s 62us/step - loss: 0.1847 - accuracy: 0.9549 - val_loss: 2.1453 - val_accuracy: 0.3926\n",
      "Epoch 19/20\n",
      "5501/5501 [==============================] - 0s 60us/step - loss: 0.1627 - accuracy: 0.9649 - val_loss: 2.2771 - val_accuracy: 0.3778\n",
      "Epoch 20/20\n",
      "5501/5501 [==============================] - 0s 59us/step - loss: 0.1403 - accuracy: 0.9707 - val_loss: 2.4464 - val_accuracy: 0.3852\n"
     ]
    }
   ],
   "source": [
    "history = model.fit(x_train, y_train, batch_size=512, epochs=20, \n",
    "                    validation_data=(x_test, y_test))"
   ]
  },
  {
   "cell_type": "code",
   "execution_count": 14,
   "metadata": {},
   "outputs": [
    {
     "data": {
      "image/png": "[encoded data removed]",
      "text/plain": [
       "<Figure size 432x288 with 1 Axes>"
      ]
     },
     "metadata": {
      "needs_background": "light"
     },
     "output_type": "display_data"
    }
   ],
   "source": [
    "import matplotlib.pyplot as plt\n",
    "\n",
    "loss = history.history['loss']\n",
    "val_loss = history.history['val_loss']\n",
    "\n",
    "epochs = range(1, len(loss) + 1)\n",
    "\n",
    "plt.plot(epochs, loss, 'bo', label='Training loss')\n",
    "plt.plot(epochs, val_loss, 'b', label='Validation loss')\n",
    "plt.title('Training and validation loss')\n",
    "plt.xlabel('Epochs')\n",
    "plt.ylabel('Loss')\n",
    "plt.legend()\n",
    "\n",
    "plt.show()"
   ]
  },
  {
   "cell_type": "code",
   "execution_count": 15,
   "metadata": {},
   "outputs": [
    {
     "data": {
      "image/png": "[encoded data removed]",
      "text/plain": [
       "<Figure size 432x288 with 1 Axes>"
      ]
     },
     "metadata": {
      "needs_background": "light"
     },
     "output_type": "display_data"
    }
   ],
   "source": [
    "plt.clf() #그래프를 초기화합니다.\n",
    "\n",
    "acc = history.history['accuracy']\n",
    "val_acc = history.history['val_accuracy']\n",
    "\n",
    "plt.plot(epochs, acc, 'bo', label='Training acc')\n",
    "plt.plot(epochs, val_acc, 'b', label='Validation acc')\n",
    "plt.title('Training and validation accuracy')\n",
    "plt.xlabel('Epochs')\n",
    "plt.ylabel('Accuracy')\n",
    "plt.legend()\n",
    "\n",
    "plt.show()\n",
    "\n"
   ]
  },
  {
   "cell_type": "markdown",
   "metadata": {},
   "source": [
    "### 실제 데이터를 학습\n",
    "epoch가 7정도에서 학습시키고 평가"
   ]
  },
  {
   "cell_type": "code",
   "execution_count": 14,
   "metadata": {},
   "outputs": [
    {
     "name": "stdout",
     "output_type": "stream",
     "text": [
      "Train on 5501 samples, validate on 135 samples\n",
      "Epoch 1/8\n",
      "5501/5501 [==============================] - 1s 101us/step - loss: 1.6263 - accuracy: 0.3074 - val_loss: 1.6480 - val_accuracy: 0.1704\n",
      "Epoch 2/8\n",
      "5501/5501 [==============================] - 0s 61us/step - loss: 1.3719 - accuracy: 0.4639 - val_loss: 1.5408 - val_accuracy: 0.2963\n",
      "Epoch 3/8\n",
      "5501/5501 [==============================] - 0s 59us/step - loss: 1.1741 - accuracy: 0.5808 - val_loss: 1.4035 - val_accuracy: 0.4296\n",
      "Epoch 4/8\n",
      "5501/5501 [==============================] - 0s 70us/step - loss: 1.0230 - accuracy: 0.6492 - val_loss: 1.4228 - val_accuracy: 0.3926\n",
      "Epoch 5/8\n",
      "5501/5501 [==============================] - 0s 60us/step - loss: 0.9031 - accuracy: 0.7015 - val_loss: 1.3582 - val_accuracy: 0.4519\n",
      "Epoch 6/8\n",
      "5501/5501 [==============================] - 0s 83us/step - loss: 0.8015 - accuracy: 0.7379 - val_loss: 1.4345 - val_accuracy: 0.4222\n",
      "Epoch 7/8\n",
      "5501/5501 [==============================] - 0s 73us/step - loss: 0.7088 - accuracy: 0.7777 - val_loss: 1.4287 - val_accuracy: 0.4296\n",
      "Epoch 8/8\n",
      "5501/5501 [==============================] - 0s 60us/step - loss: 0.6308 - accuracy: 0.8037 - val_loss: 1.4315 - val_accuracy: 0.4296\n",
      "135/135 [==============================] - 0s 125us/step\n"
     ]
    }
   ],
   "source": [
    "model = models.Sequential()\n",
    "model.add(layers.Dense(64, activation='relu', input_shape=(10000,)))\n",
    "model.add(layers.Dense(64, activation='relu'))\n",
    "model.add(layers.Dense(6, activation='softmax'))\n",
    "\n",
    "model.compile(optimizer='rmsprop',\n",
    "              loss='categorical_crossentropy',\n",
    "              metrics=['accuracy'])\n",
    "model.fit(x_train, y_train, batch_size=512, epochs=8, \n",
    "            validation_data=(x_test, y_test))\n",
    "results = model.evaluate(x_test, y_test)"
   ]
  },
  {
   "cell_type": "code",
   "execution_count": 15,
   "metadata": {
    "scrolled": true
   },
   "outputs": [
    {
     "data": {
      "text/plain": [
       "[1.4314833031760321, 0.4296296238899231]"
      ]
     },
     "execution_count": 15,
     "metadata": {},
     "output_type": "execute_result"
    }
   ],
   "source": [
    "results"
   ]
  },
  {
   "cell_type": "code",
   "execution_count": 34,
   "metadata": {},
   "outputs": [
    {
     "name": "stdout",
     "output_type": "stream",
     "text": [
      "이 선생님 수업 때 아예 자다 효율 적 느끼다 저 받다 이다 오직 저 재능 달성 하다 강의 력 설명 하다 것 딱하다 코딩 관련 되다 많다 않다 듣다 의미 없다 실습 시간 코딩 실현 하다 것 이 시간 담당 하다 조교 님 들다 정말 좋다 내용 알차다 중 앞 시간 교수 님 강의 뒤 시간 실습 시간 시간 모두 실습 시간 나다 같다 생각 들다 한마디 요약 하다 교수 님 조교 님 생각 들다 없다 평소 코딩 공부 신분 들이다 꿀 빨다 있다 아예 노 베이스 수강 철회 계절 노리다 \n",
      "예측: 5 실제: 1\n",
      "===============\n",
      "점수 별로 안좋다 교수 님 착하다 점 솔직하다 코딩 하다 사람 이 수업 통해 실력 늘다 다기 그냥 하다 애 들 밑밥 딸아 주다 안되다 같다 \n",
      "예측: 3 실제: 5\n",
      "===============\n",
      "그냥 프로그래밍 하다 애 들 먹다 수업 강의 기대하다 말다 독학 하다 \n",
      "예측: 1 실제: 3\n",
      "===============\n",
      "이론 강의 의미 없다 이론 강의 없애다 실습 여유롭다 진행 하다 좋다 \n",
      "예측: 5 실제: 3\n",
      "===============\n",
      "정좌 제이 수업 시간 다른 얘기 하다 시험 난이도 코딩 대학 서다 처음 접 하다 친구 들 늘다 굉장하다 어렵다 교수 님 정말 착하다 학생 들 관심 많다 학점 자다 주시 것 같다 \n",
      "예측: 5 실제: 3\n",
      "===============\n",
      "수업 때 사족 정말 붙이 신다 들다 것 듣다 짓 해도 되다 실습 때 하다 되다 \n",
      "예측: 1 실제: 3\n",
      "===============\n",
      "대형 강의 이론 추다 튀다 편하다 실습 가다 자다 귤 까먹다 유튜브 보다 구글링 하다 실습 과제 제출 하다 됨팀플 있다 점수 주다 사실 추다 튀다 하다 에쁠떠 학점 미화 되다 교수 님 트 위드 어울리다 \n",
      "예측: 3 실제: 5\n",
      "===============\n",
      "코딩 하다 자신 없다 하다 분 절대 듣다 말다 컴 사코 비다 난이도 수직 상승 하다 구름 이상하다 시스템 시험 보고 시험 난이도 매우 높다 교수 님 정말 가르치다 수업 시간 웃기 하다 시험 문제 유출 사건 있다 불구 덮다 노력 하다 모습 보고 정말 있다 정 떨어지다 러닝 페어 정말 시간 힘 듭니 말 선택 과제 다해 필수 과제 다름없다 알 들다 야하다 다른 교수 님 수업 들다 배우다 없다 정말 별로 강의 이다 \n",
      "예측: 4 실제: 1\n",
      "===============\n",
      "학기 모두 교수 님 만나다 제 성적 중 최저 점 받다 가다 제 실력 부족 탓 있다 교수 님 하다 사람 위주 실습 수업 하 고자 하다 같다 힘드다 문제 유출 사건 애매하다 덮다 하다 같다 실망하다 선택 집중 하 하다 알 컴 사코 이제 다시 보지 않다 \n",
      "예측: 4 실제: 1\n",
      "===============\n",
      "학점 개다 주다 ㅎㅎ 이론 수업 음 ㅎ 대신 실습 하다 시험 점수 잘나오다 \n",
      "예측: 3 실제: 5\n",
      "===============\n",
      "유현 선 교수 님 진짜 완전 유현 선 교수 님 왜 아무 듣다 이해 도 안되다 과제 없다 있다 해도 자유 과제 이론 수업 꿀잼 교수 님 마지막 날 펭수노 틀어주다 시험 평타 난의 보통 \n",
      "예측: 1 실제: 5\n",
      "===============\n",
      "그냥 내 점수 받다 좋아하다 분야 추천 스 \n",
      "예측: 3 실제: 5\n",
      "===============\n",
      "혼자 웃다 경우 많다 강의 력 별로 수업 아무 듣다 \n",
      "예측: 1 실제: 3\n",
      "===============\n",
      "수업 학생 들 코딩 익숙하다 않다 걸 전제 하다 굉장하다 기본 적 내용 일일이 설명 하다 아마 나 코딩 좀 안다 하다 분 들 굉장하다 지루하다 수업 시간 수업 이외 내용 들 말 하다 편이 수업 대한 평이 좋다 힘들다 분 같다 ㅠㅠ 수업 준비 해 오다 같다 수업 별로 말 하다 죄송하다 정도 ㅋㅋㅋ 중간 말 말 과제 비율 이르다 학점 좀 랜덤 하다 \n",
      "예측: 2 실제: 4\n",
      "===============\n",
      "외우다 되다 솔직하다 멘토 멘티 건 왜 있다 건지다 이해 안되다 어차피 친구사이 알다 그것 가산 점 좀 아니다 그냥 아무나 잡고 멘토 다음 외우다 교수 님 착하다 학점 비율 채우다 \n",
      "예측: 2 실제: 4\n",
      "===============\n",
      "솔직하다 수업 들다 이론 치우다 있다 보다 저 코딩 자다 하다 사람 들 실습 때 굉장하다 헤매다 힘들다 학점 자다 못 받다 \n",
      "예측: 4 실제: 2\n",
      "===============\n",
      "난 그냥 무난 하다 시험 그냥 피피티 장창 외우다 코딩 좀 만하 시험 이상 그냥 받다 실습 결석 안 실습 과제 내면 문제 없다 러닝 페어 꼭 하다 ㅡ 크다 과제 하나 가산 점 줄 수도 있다 어쨌든 시험 학기 말 하다 과제 자다 하다 이상 가능하다 \n",
      "예측: 5 실제: 3\n",
      "===============\n",
      "교수 님 열정 가득하다 수업 다소 따분하다 유익하다 않다 시험 피피티 나오다 보다 되다 좀 세다 부분 외우다 야하다 단점 있다 직권 배정 철회 다른 교수 님 수업 듣다 걸 추천 하다 \n",
      "예측: 4 실제: 2\n",
      "===============\n",
      "실습 위주 실력 평가 하다 시험 아니다 이론 한번 보고 치면 이쁘다 뜨다 과목 러닝 페어 채점 기준 모르다 시험 자다 되다 \n",
      "예측: 4 실제: 2\n",
      "===============\n",
      "교수 님 착하다 러닝 페어 튜터링 등 가산 점 주다 면 둘 못 하다 받다 좋다 내 그렇다 \n",
      "예측: 3 실제: 1\n",
      "===============\n",
      "유현 선 러닝 페어 학습 도우미 평균 이하 ㅅㅂㄹ \n",
      "예측: 5 실제: 1\n",
      "===============\n",
      "진짜 별로 내 이쁘다 받다 왜 받다 도저히 모르다 중간 말 비중 좀 크다 편 문제 겁나다 엽 적임 그냥 피피티 있다 글자 그리다 외우다 가야 승산 있다 듯 러닝 페어 거 진짜 왜 하다 모르다 하다 씨쁠 예약 다름없다 때문 하다 좋다 이 교수 님 걸리다 그냥 드랍 하다 이 수업 드랍 사람 이번 학기 진정하다 승자 \n",
      "예측: 4 실제: 1\n",
      "===============\n",
      "배우다 없다 중간 평균 러닝 페어 하다 말 점수 모름 실습 과제 제출 멘토 안함 줌 \n",
      "예측: 4 실제: 1\n",
      "===============\n",
      "강의 배우다 하나 없다 시험 이론 위주 임 이론 불다 되다 싶다 정도 그냥 중학교 기 수준 실습 문제 그냥 발 풀다 되다 정도 내 문제해결 능력 올라가다 생각 안함 러닝 페어 이상하다 ㅋㅋ \n",
      "예측: 5 실제: 2\n",
      "===============\n",
      "시험 방식 무슨 초등학교 역사 시험 같다 실용 적 우리 어떻다 코딩 하다 시험 전혀 나오다 쓰다 자다 없다 외우다 들다 잔뜩 이다 \n",
      "예측: 3 실제: 1\n",
      "===============\n",
      "정말 힘들다 수업 시험 용어 위주 나오다 공부 하다 되다 애초 공부 하다 마음 들어서다 힘들다 ㅜ \n",
      "예측: 4 실제: 1\n",
      "===============\n",
      "ㅋㅋㅋ 아 ㅋㅋㅋㄱㅋㅋㄱ \n",
      "예측: 3 실제: 1\n",
      "===============\n",
      "팀플 뭐 같다 하다 학점 잘나오다 매우 귀찮다 이론 수업 중 고딩 때 정보 컴퓨터 과목 수준 실습 나은 것 같다 \n",
      "예측: 4 실제: 1\n",
      "===============\n",
      "솔직하다 이론 정말 쓸데없다 실습 빠듯해 닥 이다 실습 시간 더 많다 차라리 흥미롭다 같다 빠르다 지나가다 보다 따라가다 벅차다 거 같다 다만 명성 학점 혜자 로우 시긴 하다 시험 보다 실습 자다 참여 하다 좋다 성적 기대 해보다 되다 꼬 같다 \n",
      "예측: 5 실제: 3\n",
      "===============\n",
      "그냥 듣다 수업 파이썬 배우다 재미 잇다 느끼다 수 잇다 이론 강의 그냥 내용 별로 임 \n",
      "예측: 1 실제: 3\n",
      "===============\n"
     ]
    }
   ],
   "source": [
    "mean = 0\n",
    "for i in range(len(test_sent)):\n",
    "    a = clean_text(test_text[i])\n",
    "    a = t.texts_to_sequences([a])\n",
    "    a = vectorize_sequences(a)\n",
    "    predictions = model.predict(a)\n",
    "\n",
    "    if abs(test_sent[i]- np.argmax(predictions[0])) >= 2:\n",
    "        print(test_text[i], \"\\n예측:\",np.argmax(predictions[0]),\"실제:\",test_sent[i], end = \"\\n===============\\n\")\n",
    "    mean += abs(test_sent[i]- np.argmax(predictions[0]))"
   ]
  },
  {
   "cell_type": "code",
   "execution_count": 17,
   "metadata": {
    "scrolled": true
   },
   "outputs": [
    {
     "data": {
      "text/plain": [
       "0.8814814814814815"
      ]
     },
     "execution_count": 17,
     "metadata": {},
     "output_type": "execute_result"
    }
   ],
   "source": [
    "mean/len(test_sent)"
   ]
  },
  {
   "cell_type": "markdown",
   "metadata": {},
   "source": [
    "0.9 정도의 오차를 보인다. 실제 4점일 때 3.1 ~ 4.9로 평가함으로 거의 유사하게 평가한다는 것을 확인하였다. 기계학습보다 딥러닝이 성능이 월등히 좋았다."
   ]
  },
  {
   "cell_type": "markdown",
   "metadata": {},
   "source": [
    "### 모델을 기반으로 데이터를 넣고 그 별점을 예측"
   ]
  },
  {
   "cell_type": "code",
   "execution_count": 39,
   "metadata": {},
   "outputs": [
    {
     "name": "stdout",
     "output_type": "stream",
     "text": [
      "과제 많다\n"
     ]
    }
   ],
   "source": [
    "from tensorflow.keras.preprocessing.text import Tokenizer\n",
    "from tensorflow.keras.utils import to_categorical\n",
    "\n",
    "a = input()\n",
    "a = clean_text(a)\n",
    "a=t.texts_to_sequences([a])\n",
    "a = vectorize_sequences(a)\n",
    "predictions = model.predict(a)"
   ]
  },
  {
   "cell_type": "code",
   "execution_count": 40,
   "metadata": {},
   "outputs": [
    {
     "data": {
      "text/plain": [
       "3"
      ]
     },
     "execution_count": 40,
     "metadata": {},
     "output_type": "execute_result"
    }
   ],
   "source": [
    "np.argmax(predictions[0])"
   ]
  },
  {
   "cell_type": "code",
   "execution_count": null,
   "metadata": {},
   "outputs": [],
   "source": []
  }
 ],
 "metadata": {
  "kernelspec": {
   "display_name": "Python 3",
   "language": "python",
   "name": "python3"
  },
  "language_info": {
   "codemirror_mode": {
    "name": "ipython",
    "version": 3
   },
   "file_extension": ".py",
   "mimetype": "text/x-python",
   "name": "python",
   "nbconvert_exporter": "python",
   "pygments_lexer": "ipython3",
   "version": "3.7.7"
  }
 },
 "nbformat": 4,
 "nbformat_minor": 4
}
